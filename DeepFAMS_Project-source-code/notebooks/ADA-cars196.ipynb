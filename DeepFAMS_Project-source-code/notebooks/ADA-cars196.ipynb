{
 "cells": [
  {
   "cell_type": "code",
   "execution_count": 2,
   "metadata": {},
   "outputs": [
    {
     "name": "stdout",
     "output_type": "stream",
     "text": [
      "Tensorflow version: 1.14.0\n"
     ]
    }
   ],
   "source": [
    "from glob import glob\n",
    "import numpy as np\n",
    "import PIL.Image\n",
    "from tqdm import tqdm\n",
    "from pathlib import Path\n",
    "import urllib.request\n",
    "import tarfile\n",
    "import zipfile\n",
    "import subprocess\n",
    "import sys\n",
    "import dotenv\n",
    "import os\n",
    "\n",
    "import warnings\n",
    "warnings.filterwarnings(\"ignore\", category=FutureWarning)\n",
    "\n",
    "import tensorflow as tf\n",
    "tf.compat.v1.enable_eager_execution()\n",
    "\n",
    "dotenv.load_dotenv(override=True)\n",
    "WORK = os.getenv('WORK')\n",
    "sys.path.insert(0, f'{WORK}/ADA_Project')\n",
    "import DeepFAMS\n",
    "\n",
    "WORK, PROJ_DIR = DeepFAMS.utils.set_env()"
   ]
  },
  {
   "cell_type": "code",
   "execution_count": 3,
   "metadata": {},
   "outputs": [],
   "source": [
    "PROJ_DIR = f'{WORK}/ADA_Project'\n",
    "RAW_IMGS_DIR = f'{PROJ_DIR}/datasets/cars_train'\n",
    "RESIZED_IMGS_DIR = f'{PROJ_DIR}/datasets/cars196_resized'\n",
    "DATA_CUSTOM_DIR = f'{PROJ_DIR}/datasets/cars196_custom'\n",
    "TRAIN_RUNS_DIR = f'{PROJ_DIR}/training_runs/cars196_training-runs'"
   ]
  },
  {
   "cell_type": "code",
   "execution_count": null,
   "metadata": {},
   "outputs": [],
   "source": [
    "url = 'http://imagenet.stanford.edu/internal/car196/cars_train.tgz'\n",
    "urllib.request.urlretrieve(url, f'{PROJ_DIR}/datasets/cars_train.tgz')"
   ]
  },
  {
   "cell_type": "code",
   "execution_count": null,
   "metadata": {},
   "outputs": [],
   "source": [
    "tarf = tarfile.open(f'{PROJ_DIR}/datasets/cars_train.tgz')\n",
    "tarf.extractall(path=RAW_IMGS_DIR)"
   ]
  },
  {
   "cell_type": "code",
   "execution_count": 4,
   "metadata": {},
   "outputs": [
    {
     "data": {
      "text/plain": [
       "8144"
      ]
     },
     "execution_count": 4,
     "metadata": {},
     "output_type": "execute_result"
    }
   ],
   "source": [
    "raw_imgs = glob(f'{RAW_IMGS_DIR}/**/*')\n",
    "len(raw_imgs)"
   ]
  },
  {
   "cell_type": "code",
   "execution_count": 5,
   "metadata": {},
   "outputs": [
    {
     "name": "stderr",
     "output_type": "stream",
     "text": [
      "100%|██████████| 8144/8144 [04:34<00:00, 29.61it/s]\n"
     ]
    }
   ],
   "source": [
    "for x in tqdm(raw_imgs):\n",
    "    DeepFAMS.preprocessing.resize_imgs(x, (256, 256), RESIZED_IMGS_DIR)"
   ]
  },
  {
   "cell_type": "code",
   "execution_count": 6,
   "metadata": {},
   "outputs": [
    {
     "name": "stdout",
     "output_type": "stream",
     "text": [
      "Loading images from \"/work/chaselab/malyetama/ADA_Project/datasets/cars196_resized\"\n",
      "Creating dataset \"/work/chaselab/malyetama/ADA_Project/datasets/cars196_custom\"\n",
      "axes don't match array\n",
      "Failed to export /work/chaselab/malyetama/ADA_Project/datasets/cars196_resized/03439.jpg\n",
      "axes don't match array\n",
      "Failed to export /work/chaselab/malyetama/ADA_Project/datasets/cars196_resized/05502.jpg\n",
      "axes don't match array\n",
      "Failed to export /work/chaselab/malyetama/ADA_Project/datasets/cars196_resized/03469.jpg\n",
      "axes don't match array\n",
      "Failed to export /work/chaselab/malyetama/ADA_Project/datasets/cars196_resized/00266.jpg\n",
      "axes don't match array\n",
      "Failed to export /work/chaselab/malyetama/ADA_Project/datasets/cars196_resized/01085.jpg\n",
      "axes don't match array\n",
      "Failed to export /work/chaselab/malyetama/ADA_Project/datasets/cars196_resized/07774.jpg\n",
      "axes don't match array\n",
      "Failed to export /work/chaselab/malyetama/ADA_Project/datasets/cars196_resized/07693.jpg\n",
      "axes don't match array\n",
      "Failed to export /work/chaselab/malyetama/ADA_Project/datasets/cars196_resized/02176.jpg\n",
      "axes don't match array\n",
      "Failed to export /work/chaselab/malyetama/ADA_Project/datasets/cars196_resized/03539.jpg\n",
      "axes don't match array\n",
      "Failed to export /work/chaselab/malyetama/ADA_Project/datasets/cars196_resized/08144.jpg\n",
      "axes don't match array\n",
      "Failed to export /work/chaselab/malyetama/ADA_Project/datasets/cars196_resized/05177.jpg\n",
      "axes don't match array\n",
      "Failed to export /work/chaselab/malyetama/ADA_Project/datasets/cars196_resized/05713.jpg\n",
      "axes don't match array\n",
      "Failed to export /work/chaselab/malyetama/ADA_Project/datasets/cars196_resized/08137.jpg\n",
      "axes don't match array\n",
      "Failed to export /work/chaselab/malyetama/ADA_Project/datasets/cars196_resized/04848.jpg\n",
      "axes don't match array\n",
      "Failed to export /work/chaselab/malyetama/ADA_Project/datasets/cars196_resized/06947.jpg\n",
      "axes don't match array\n",
      "Failed to export /work/chaselab/malyetama/ADA_Project/datasets/cars196_resized/04577.jpg\n",
      "axes don't match array\n",
      "Failed to export /work/chaselab/malyetama/ADA_Project/datasets/cars196_resized/03048.jpg\n",
      "axes don't match array\n",
      "Failed to export /work/chaselab/malyetama/ADA_Project/datasets/cars196_resized/07383.jpg\n",
      "Added 8126 images.                      \n"
     ]
    }
   ],
   "source": [
    "DeepFAMS.preprocessing.tf_record_exporter(\n",
    "    tfrecord_dir=DATA_CUSTOM_DIR, image_dir=RESIZED_IMGS_DIR, shuffle=1)"
   ]
  },
  {
   "cell_type": "code",
   "execution_count": null,
   "metadata": {},
   "outputs": [],
   "source": [
    "# # Needs to be run through the command line at least once to compile the model\n",
    "\n",
    "# ! module load anaconda && \\\n",
    "#     module load compiler/gcc/4.7 && \\\n",
    "#     module load cuda && \\\n",
    "#     $WORK/.conda/envs/ada-env/bin/python $WORK/ADA_Project/StyleGAN2-ada/train.py \\\n",
    "#     --outdir=$WORK/ADA_Project/training_runs/cars196_training-runs \\\n",
    "#     --gpus=2 \\\n",
    "#     --data=$WORK/ADA_Project/datasets/cars196_custom \\\n",
    "#     --snap=1"
   ]
  },
  {
   "cell_type": "code",
   "execution_count": 11,
   "metadata": {},
   "outputs": [
    {
     "name": "stdout",
     "output_type": "stream",
     "text": [
      "/work/chaselab/malyetama/ADA_Project/training_runs/cars196_training-runs/00010-cars196_custom-auto2-resumecustom/network-snapshot-000401.pkl\n"
     ]
    }
   ],
   "source": [
    "for num in range(-1, -10, -1):\n",
    "    files = DeepFAMS.utils.last_snap(num, TRAIN_RUNS_DIR)\n",
    "    if files != []:\n",
    "        break\n",
    "\n",
    "latest_snap = sorted(files)[-1]\n",
    "print(latest_snap)"
   ]
  },
  {
   "cell_type": "code",
   "execution_count": null,
   "metadata": {},
   "outputs": [],
   "source": [
    "run_desc, training_options = DeepFAMS.setup_training_options(\n",
    "    gpus       = 2,\n",
    "    snap       = 1,\n",
    "    data       = DATA_CUSTOM_DIR,\n",
    "    resume     = latest_snap\n",
    ")"
   ]
  },
  {
   "cell_type": "code",
   "execution_count": null,
   "metadata": {},
   "outputs": [],
   "source": [
    "DeepFAMS.utils.execute('nvidia-smi')"
   ]
  },
  {
   "cell_type": "code",
   "execution_count": null,
   "metadata": {},
   "outputs": [],
   "source": [
    "DeepFAMS.RunTraining(outdir=TRAIN_RUNS_DIR, seed=1000,\n",
    "             dry_run=True, run_desc=run_desc, training_options=training_options)"
   ]
  },
  {
   "cell_type": "code",
   "execution_count": null,
   "metadata": {},
   "outputs": [],
   "source": [
    "tf.compat.v1.disable_eager_execution()\n",
    "DeepFAMS.RunTraining(outdir=TRAIN_RUNS_DIR, seed=1000,\n",
    "             dry_run=False, run_desc=run_desc, training_options=training_options)"
   ]
  },
  {
   "cell_type": "code",
   "execution_count": null,
   "metadata": {},
   "outputs": [],
   "source": []
  }
 ],
 "metadata": {
  "kernelspec": {
   "display_name": "Python (ada-env)",
   "language": "python",
   "name": "ada-env"
  },
  "language_info": {
   "codemirror_mode": {
    "name": "ipython",
    "version": 3
   },
   "file_extension": ".py",
   "mimetype": "text/x-python",
   "name": "python",
   "nbconvert_exporter": "python",
   "pygments_lexer": "ipython3",
   "version": "3.7.3"
  }
 },
 "nbformat": 4,
 "nbformat_minor": 2
}
