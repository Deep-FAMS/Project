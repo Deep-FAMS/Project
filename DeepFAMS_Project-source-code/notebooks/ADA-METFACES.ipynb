{
 "cells": [
  {
   "cell_type": "code",
   "execution_count": 2,
   "metadata": {},
   "outputs": [
    {
     "name": "stdout",
     "output_type": "stream",
     "text": [
      "Tensorflow version: 1.14.0\n"
     ]
    }
   ],
   "source": [
    "from glob import glob\n",
    "import numpy as np\n",
    "import PIL.Image\n",
    "from tqdm import tqdm\n",
    "from pathlib import Path\n",
    "import urllib.request\n",
    "import tarfile\n",
    "import zipfile\n",
    "import subprocess\n",
    "import sys\n",
    "import dotenv\n",
    "import os\n",
    "\n",
    "import warnings\n",
    "warnings.filterwarnings(\"ignore\", category=FutureWarning)\n",
    "\n",
    "import tensorflow as tf\n",
    "tf.compat.v1.enable_eager_execution()\n",
    "\n",
    "dotenv.load_dotenv(override=True)\n",
    "WORK = os.getenv('WORK')\n",
    "sys.path.insert(0, f'{WORK}/ADA_Project')\n",
    "import DeepFAMS\n",
    "\n",
    "WORK, PROJ_DIR = DeepFAMS.utils.set_env()"
   ]
  },
  {
   "cell_type": "code",
   "execution_count": 3,
   "metadata": {},
   "outputs": [],
   "source": [
    "PROJ_DIR = f'{WORK}/ADA_Project'\n",
    "RAW_IMGS_DIR = f'{PROJ_DIR}/datasets/metfaces-release/images'\n",
    "RESIZED_IMGS_DIR = f'{PROJ_DIR}/datasets/metfaces_resized_imgs'\n",
    "DATA_CUSTOM_DIR = f'{PROJ_DIR}/datasets/metfaces_custom'\n",
    "TRAIN_RUNS_DIR = f'{PROJ_DIR}/training_runs/metfaces_training-runs'"
   ]
  },
  {
   "cell_type": "code",
   "execution_count": 5,
   "metadata": {},
   "outputs": [
    {
     "data": {
      "text/plain": [
       "1336"
      ]
     },
     "execution_count": 5,
     "metadata": {},
     "output_type": "execute_result"
    }
   ],
   "source": [
    "# # data was downloaded from https://drive.google.com/open?id=1w-Os4uERBmXwCm7Oo_kW6X3Sd2YHpJMC\n",
    "raw_imgs = glob(f'{RAW_IMGS_DIR}/*')\n",
    "len(raw_imgs)"
   ]
  },
  {
   "cell_type": "code",
   "execution_count": 6,
   "metadata": {},
   "outputs": [
    {
     "name": "stderr",
     "output_type": "stream",
     "text": [
      "100%|██████████| 1336/1336 [04:36<00:00,  4.83it/s]\n"
     ]
    }
   ],
   "source": [
    "for x in tqdm(raw_imgs):\n",
    "    DeepFAMS.preprocessing.resize_imgs(x, (512, 512), RESIZED_IMGS_DIR)"
   ]
  },
  {
   "cell_type": "code",
   "execution_count": 7,
   "metadata": {},
   "outputs": [
    {
     "name": "stdout",
     "output_type": "stream",
     "text": [
      "Raw: 1336, Resized: 1336\n"
     ]
    }
   ],
   "source": [
    "print(f'Raw: {len(raw_imgs)}, Resized: {len(glob(f\"{RESIZED_IMGS_DIR}/*\"))}')"
   ]
  },
  {
   "cell_type": "code",
   "execution_count": 8,
   "metadata": {},
   "outputs": [
    {
     "name": "stdout",
     "output_type": "stream",
     "text": [
      "Loading images from \"/work/chaselab/malyetama/ADA_Project/datasets/metfaces_resized_imgs\"\n",
      "Creating dataset \"/work/chaselab/malyetama/ADA_Project/datasets/metfaces_custom\"\n",
      "Added 1336 images.                      \n"
     ]
    }
   ],
   "source": [
    "DeepFAMS.preprocessing.tf_record_exporter(\n",
    "    tfrecord_dir=DATA_CUSTOM_DIR, image_dir=RESIZED_IMGS_DIR, shuffle=1)"
   ]
  },
  {
   "cell_type": "code",
   "execution_count": 9,
   "metadata": {},
   "outputs": [
    {
     "name": "stdout",
     "output_type": "stream",
     "text": [
      "#!/bin/bash\n",
      "module load anaconda\n",
      "module load compiler/gcc/4.7\n",
      "module load cuda\n",
      "$WORK/.conda/envs/ada-env/bin/python $WORK/ADA_Project/StyleGAN2-ada/train.py --outdir=/work/chaselab/malyetama/ADA_Project/training_runs/metfaces_training-runs --gpus=2 --data=/work/chaselab/malyetama/ADA_Project/datasets/metfaces_custom --snap=1 --kimg=1\n"
     ]
    }
   ],
   "source": [
    "with open('compile_model.sh', 'w') as f:\n",
    "        f.write(f'''#!/bin/bash\n",
    "module load anaconda\n",
    "module load compiler/gcc/4.7\n",
    "module load cuda\n",
    "$WORK/.conda/envs/ada-env/bin/python $WORK/ADA_Project/StyleGAN2-ada/train.py \\\n",
    "--outdir={TRAIN_RUNS_DIR} \\\n",
    "--gpus=2 \\\n",
    "--data={DATA_CUSTOM_DIR} \\\n",
    "--snap=1 \\\n",
    "--kimg=1''')\n",
    "        \n",
    "DeepFAMS.utils.execute('cat compile_model.sh')"
   ]
  },
  {
   "cell_type": "code",
   "execution_count": null,
   "metadata": {},
   "outputs": [],
   "source": [
    "p = subprocess.Popen(\"bash compile_model.sh\",\n",
    "                     shell=True,stdout=subprocess.PIPE, stderr=subprocess.PIPE, universal_newlines=True)\n",
    "\n",
    "while p.poll() is None:\n",
    "    line = p.stdout.readline()\n",
    "    print(line)\n",
    "    \n",
    "os.remove('compile_model.sh')"
   ]
  },
  {
   "cell_type": "code",
   "execution_count": 10,
   "metadata": {},
   "outputs": [
    {
     "name": "stdout",
     "output_type": "stream",
     "text": [
      "/work/chaselab/malyetama/ADA_Project/training_runs/metfaces_training-runs/00002-metfaces_custom-auto2-resumecustom/network-snapshot-000024.pkl\n"
     ]
    }
   ],
   "source": [
    "for num in range(-1, -10, -1):\n",
    "    files = DeepFAMS.utils.last_snap(num, TRAIN_RUNS_DIR)\n",
    "    if files != []:\n",
    "        break\n",
    "\n",
    "latest_snap = sorted(files)[-1]\n",
    "print(latest_snap)"
   ]
  },
  {
   "cell_type": "code",
   "execution_count": null,
   "metadata": {},
   "outputs": [],
   "source": [
    "run_desc, training_options = DeepFAMS.setup_training_options(\n",
    "    gpus       = 2,\n",
    "    snap       = 1,\n",
    "    data       = DATA_CUSTOM_DIR,\n",
    "    resume     = latest_snap\n",
    ")"
   ]
  },
  {
   "cell_type": "code",
   "execution_count": null,
   "metadata": {},
   "outputs": [],
   "source": [
    "DeepFAMS.utils.execute('nvidia-smi')"
   ]
  },
  {
   "cell_type": "code",
   "execution_count": null,
   "metadata": {},
   "outputs": [],
   "source": [
    "DeepFAMS.RunTraining(outdir=TRAIN_RUNS_DIR, seed=1000,\n",
    "             dry_run=True, run_desc=run_desc, training_options=training_options)"
   ]
  },
  {
   "cell_type": "code",
   "execution_count": null,
   "metadata": {},
   "outputs": [],
   "source": [
    "tf.compat.v1.disable_eager_execution()\n",
    "DeepFAMS.RunTraining(outdir=TRAIN_RUNS_DIR, seed=1000,\n",
    "             dry_run=False, run_desc=run_desc, training_options=training_options)"
   ]
  },
  {
   "cell_type": "code",
   "execution_count": null,
   "metadata": {},
   "outputs": [],
   "source": []
  }
 ],
 "metadata": {
  "kernelspec": {
   "display_name": "Python (ada-env)",
   "language": "python",
   "name": "ada-env"
  },
  "language_info": {
   "codemirror_mode": {
    "name": "ipython",
    "version": 3
   },
   "file_extension": ".py",
   "mimetype": "text/x-python",
   "name": "python",
   "nbconvert_exporter": "python",
   "pygments_lexer": "ipython3",
   "version": "3.7.3"
  }
 },
 "nbformat": 4,
 "nbformat_minor": 2
}
