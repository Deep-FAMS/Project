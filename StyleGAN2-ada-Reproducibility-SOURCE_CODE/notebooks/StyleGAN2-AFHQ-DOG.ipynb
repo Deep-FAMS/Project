{
 "cells": [
  {
   "cell_type": "markdown",
   "metadata": {},
   "source": [
    "## Here, we are training a StyleGAN2 model from scratch to compare to StyleGAN2-ADA on the same dataset"
   ]
  },
  {
   "cell_type": "code",
   "execution_count": 1,
   "metadata": {},
   "outputs": [
    {
     "name": "stdout",
     "output_type": "stream",
     "text": [
      "Tensorflow version: 1.14.0\n"
     ]
    }
   ],
   "source": [
    "from glob import glob\n",
    "from tqdm import tqdm\n",
    "from pathlib import Path\n",
    "import sys\n",
    "import dotenv\n",
    "import os\n",
    "\n",
    "import warnings\n",
    "warnings.filterwarnings(\"ignore\", category=FutureWarning)\n",
    "\n",
    "dotenv.load_dotenv(override=True)\n",
    "WORK = os.getenv('WORK')\n",
    "sys.path.insert(0, f'{WORK}/ADA_Project')\n",
    "sys.path.insert(0, f'{WORK}/ADA_Project/stylegan2')\n",
    "import DeepFAMS\n",
    "\n",
    "WORK, PROJ_DIR = DeepFAMS.utils.set_env()"
   ]
  },
  {
   "cell_type": "code",
   "execution_count": 51,
   "metadata": {},
   "outputs": [],
   "source": [
    "DATASET_NAME = 'AFHQ-DOG'"
   ]
  },
  {
   "cell_type": "code",
   "execution_count": 52,
   "metadata": {},
   "outputs": [],
   "source": [
    "RAW_IMGS_DIR, RESIZED_IMGS_DIR, DATA_CUSTOM_DIR, TRAIN_RUNS_DIR = DeepFAMS.utils.return_dirs(\n",
    "    PROJ_DIR, DATASET_NAME)"
   ]
  },
  {
   "cell_type": "code",
   "execution_count": 53,
   "metadata": {},
   "outputs": [],
   "source": [
    "subset_folder = f'{DATASET_NAME.replace(\"AFHQ\", \"\").replace(\"-\", \"\").lower()}'\n",
    "RAW_IMGS_DIR_ = f'{PROJ_DIR}/datasets/AFHQ_images_raw/afhq/train/{subset_folder}'\n",
    "TRAIN_RUNS_DIR = f'{Path(TRAIN_RUNS_DIR).parent}/StyleGAN2_{Path(TRAIN_RUNS_DIR).name}'"
   ]
  },
  {
   "cell_type": "code",
   "execution_count": 54,
   "metadata": {},
   "outputs": [
    {
     "name": "stdout",
     "output_type": "stream",
     "text": [
      "4739\n"
     ]
    }
   ],
   "source": [
    "raw_imgs = glob(f'{RAW_IMGS_DIR_}/*')\n",
    "print(len(raw_imgs))"
   ]
  },
  {
   "cell_type": "code",
   "execution_count": 55,
   "metadata": {},
   "outputs": [],
   "source": [
    "# for x in tqdm(raw_imgs):\n",
    "#     DeepFAMS.preprocessing.resize_imgs(x, (256, 256), RESIZED_IMGS_DIR)"
   ]
  },
  {
   "cell_type": "code",
   "execution_count": 56,
   "metadata": {},
   "outputs": [
    {
     "name": "stdout",
     "output_type": "stream",
     "text": [
      "Raw: 4739, Resized: 4739\n"
     ]
    }
   ],
   "source": [
    "print(f'Raw: {len(raw_imgs)}, Resized: {len(glob(f\"{RESIZED_IMGS_DIR}/*\"))}')"
   ]
  },
  {
   "cell_type": "code",
   "execution_count": null,
   "metadata": {},
   "outputs": [],
   "source": [
    "# DeepFAMS.preprocessing.tf_record_exporter(\n",
    "#     tfrecord_dir=DATA_CUSTOM_DIR, image_dir=RESIZED_IMGS_DIR, shuffle=1)"
   ]
  },
  {
   "cell_type": "code",
   "execution_count": 63,
   "metadata": {},
   "outputs": [
    {
     "name": "stdout",
     "output_type": "stream",
     "text": [
      "Local submit - run_dir: /work/chaselab/malyetama/ADA_Project/training_runs/StyleGAN2_AFHQ-DOG_training-runs/00000-stylegan2-AFHQ-DOG_custom-2gpu-config-f\n",
      "\n",
      "dnnlib: Running training.training_loop.training_loop() on localhost...\n",
      "\n",
      "Streaming data using training.dataset.TFRecordDataset...\n",
      "\n",
      "Dataset shape = [3, 256, 256]\n",
      "\n",
      "Dynamic range = [0, 255]\n",
      "\n",
      "Label size    = 0\n",
      "\n",
      "Constructing networks...\n",
      "\n",
      "Setting up TensorFlow plugin \"fused_bias_act.cu\": Preprocessing... Loading... Done.\n",
      "\n",
      "Setting up TensorFlow plugin \"upfirdn_2d.cu\": Preprocessing... Loading... Done.\n",
      "\n",
      "\n",
      "\n",
      "G                             Params    OutputShape         WeightShape     \n",
      "\n",
      "---                           ---       ---                 ---             \n",
      "\n",
      "latents_in                    -         (?, 512)            -               \n",
      "\n",
      "labels_in                     -         (?, 0)              -               \n",
      "\n",
      "lod                           -         ()                  -               \n",
      "\n",
      "dlatent_avg                   -         (512,)              -               \n",
      "\n",
      "G_mapping/latents_in          -         (?, 512)            -               \n",
      "\n",
      "G_mapping/labels_in           -         (?, 0)              -               \n",
      "\n",
      "G_mapping/Normalize           -         (?, 512)            -               \n",
      "\n",
      "G_mapping/Dense0              262656    (?, 512)            (512, 512)      \n",
      "\n",
      "G_mapping/Dense1              262656    (?, 512)            (512, 512)      \n",
      "\n",
      "G_mapping/Dense2              262656    (?, 512)            (512, 512)      \n",
      "\n",
      "G_mapping/Dense3              262656    (?, 512)            (512, 512)      \n",
      "\n",
      "G_mapping/Dense4              262656    (?, 512)            (512, 512)      \n",
      "\n",
      "G_mapping/Dense5              262656    (?, 512)            (512, 512)      \n",
      "\n",
      "G_mapping/Dense6              262656    (?, 512)            (512, 512)      \n",
      "\n",
      "G_mapping/Dense7              262656    (?, 512)            (512, 512)      \n",
      "\n",
      "G_mapping/Broadcast           -         (?, 14, 512)        -               \n",
      "\n",
      "G_mapping/dlatents_out        -         (?, 14, 512)        -               \n",
      "\n",
      "Truncation/Lerp               -         (?, 14, 512)        -               \n",
      "\n",
      "G_synthesis/dlatents_in       -         (?, 14, 512)        -               \n",
      "\n",
      "G_synthesis/4x4/Const         8192      (?, 512, 4, 4)      (1, 512, 4, 4)  \n",
      "\n",
      "G_synthesis/4x4/Conv          2622465   (?, 512, 4, 4)      (3, 3, 512, 512)\n",
      "\n",
      "G_synthesis/4x4/ToRGB         264195    (?, 3, 4, 4)        (1, 1, 512, 3)  \n",
      "\n",
      "G_synthesis/8x8/Conv0_up      2622465   (?, 512, 8, 8)      (3, 3, 512, 512)\n",
      "\n",
      "G_synthesis/8x8/Conv1         2622465   (?, 512, 8, 8)      (3, 3, 512, 512)\n",
      "\n",
      "G_synthesis/8x8/Upsample      -         (?, 3, 8, 8)        -               \n",
      "\n",
      "G_synthesis/8x8/ToRGB         264195    (?, 3, 8, 8)        (1, 1, 512, 3)  \n",
      "\n",
      "G_synthesis/16x16/Conv0_up    2622465   (?, 512, 16, 16)    (3, 3, 512, 512)\n",
      "\n",
      "G_synthesis/16x16/Conv1       2622465   (?, 512, 16, 16)    (3, 3, 512, 512)\n",
      "\n",
      "G_synthesis/16x16/Upsample    -         (?, 3, 16, 16)      -               \n",
      "\n",
      "G_synthesis/16x16/ToRGB       264195    (?, 3, 16, 16)      (1, 1, 512, 3)  \n",
      "\n",
      "G_synthesis/32x32/Conv0_up    2622465   (?, 512, 32, 32)    (3, 3, 512, 512)\n",
      "\n",
      "G_synthesis/32x32/Conv1       2622465   (?, 512, 32, 32)    (3, 3, 512, 512)\n",
      "\n",
      "G_synthesis/32x32/Upsample    -         (?, 3, 32, 32)      -               \n",
      "\n",
      "G_synthesis/32x32/ToRGB       264195    (?, 3, 32, 32)      (1, 1, 512, 3)  \n",
      "\n",
      "G_synthesis/64x64/Conv0_up    2622465   (?, 512, 64, 64)    (3, 3, 512, 512)\n",
      "\n",
      "G_synthesis/64x64/Conv1       2622465   (?, 512, 64, 64)    (3, 3, 512, 512)\n",
      "\n",
      "G_synthesis/64x64/Upsample    -         (?, 3, 64, 64)      -               \n",
      "\n",
      "G_synthesis/64x64/ToRGB       264195    (?, 3, 64, 64)      (1, 1, 512, 3)  \n",
      "\n",
      "G_synthesis/128x128/Conv0_up  1442561   (?, 256, 128, 128)  (3, 3, 512, 256)\n",
      "\n",
      "G_synthesis/128x128/Conv1     721409    (?, 256, 128, 128)  (3, 3, 256, 256)\n",
      "\n",
      "G_synthesis/128x128/Upsample  -         (?, 3, 128, 128)    -               \n",
      "\n",
      "G_synthesis/128x128/ToRGB     132099    (?, 3, 128, 128)    (1, 1, 256, 3)  \n",
      "\n",
      "G_synthesis/256x256/Conv0_up  426369    (?, 128, 256, 256)  (3, 3, 256, 128)\n",
      "\n",
      "G_synthesis/256x256/Conv1     213249    (?, 128, 256, 256)  (3, 3, 128, 128)\n",
      "\n",
      "G_synthesis/256x256/Upsample  -         (?, 3, 256, 256)    -               \n",
      "\n",
      "G_synthesis/256x256/ToRGB     66051     (?, 3, 256, 256)    (1, 1, 128, 3)  \n",
      "\n",
      "G_synthesis/images_out        -         (?, 3, 256, 256)    -               \n",
      "\n",
      "G_synthesis/noise0            -         (1, 1, 4, 4)        -               \n",
      "\n",
      "G_synthesis/noise1            -         (1, 1, 8, 8)        -               \n",
      "\n",
      "G_synthesis/noise2            -         (1, 1, 8, 8)        -               \n",
      "\n",
      "G_synthesis/noise3            -         (1, 1, 16, 16)      -               \n",
      "\n",
      "G_synthesis/noise4            -         (1, 1, 16, 16)      -               \n",
      "\n",
      "G_synthesis/noise5            -         (1, 1, 32, 32)      -               \n",
      "\n",
      "G_synthesis/noise6            -         (1, 1, 32, 32)      -               \n",
      "\n",
      "G_synthesis/noise7            -         (1, 1, 64, 64)      -               \n",
      "\n",
      "G_synthesis/noise8            -         (1, 1, 64, 64)      -               \n",
      "\n",
      "G_synthesis/noise9            -         (1, 1, 128, 128)    -               \n",
      "\n",
      "G_synthesis/noise10           -         (1, 1, 128, 128)    -               \n",
      "\n",
      "G_synthesis/noise11           -         (1, 1, 256, 256)    -               \n",
      "\n",
      "G_synthesis/noise12           -         (1, 1, 256, 256)    -               \n",
      "\n",
      "images_out                    -         (?, 3, 256, 256)    -               \n",
      "\n",
      "---                           ---       ---                 ---             \n",
      "\n",
      "Total                         30034338                                      \n",
      "\n",
      "\n",
      "\n",
      "\n",
      "\n",
      "D                    Params    OutputShape         WeightShape     \n",
      "\n",
      "---                  ---       ---                 ---             \n",
      "\n",
      "images_in            -         (?, 3, 256, 256)    -               \n",
      "\n",
      "labels_in            -         (?, 0)              -               \n",
      "\n",
      "256x256/FromRGB      512       (?, 128, 256, 256)  (1, 1, 3, 128)  \n",
      "\n",
      "256x256/Conv0        147584    (?, 128, 256, 256)  (3, 3, 128, 128)\n",
      "\n",
      "256x256/Conv1_down   295168    (?, 256, 128, 128)  (3, 3, 128, 256)\n",
      "\n",
      "256x256/Skip         32768     (?, 256, 128, 128)  (1, 1, 128, 256)\n",
      "\n",
      "128x128/Conv0        590080    (?, 256, 128, 128)  (3, 3, 256, 256)\n",
      "\n",
      "128x128/Conv1_down   1180160   (?, 512, 64, 64)    (3, 3, 256, 512)\n",
      "\n",
      "128x128/Skip         131072    (?, 512, 64, 64)    (1, 1, 256, 512)\n",
      "\n",
      "64x64/Conv0          2359808   (?, 512, 64, 64)    (3, 3, 512, 512)\n",
      "\n",
      "64x64/Conv1_down     2359808   (?, 512, 32, 32)    (3, 3, 512, 512)\n",
      "\n",
      "64x64/Skip           262144    (?, 512, 32, 32)    (1, 1, 512, 512)\n",
      "\n",
      "32x32/Conv0          2359808   (?, 512, 32, 32)    (3, 3, 512, 512)\n",
      "\n",
      "32x32/Conv1_down     2359808   (?, 512, 16, 16)    (3, 3, 512, 512)\n",
      "\n",
      "32x32/Skip           262144    (?, 512, 16, 16)    (1, 1, 512, 512)\n",
      "\n",
      "16x16/Conv0          2359808   (?, 512, 16, 16)    (3, 3, 512, 512)\n",
      "\n",
      "16x16/Conv1_down     2359808   (?, 512, 8, 8)      (3, 3, 512, 512)\n",
      "\n",
      "16x16/Skip           262144    (?, 512, 8, 8)      (1, 1, 512, 512)\n",
      "\n",
      "8x8/Conv0            2359808   (?, 512, 8, 8)      (3, 3, 512, 512)\n",
      "\n",
      "8x8/Conv1_down       2359808   (?, 512, 4, 4)      (3, 3, 512, 512)\n",
      "\n",
      "8x8/Skip             262144    (?, 512, 4, 4)      (1, 1, 512, 512)\n",
      "\n",
      "4x4/MinibatchStddev  -         (?, 513, 4, 4)      -               \n",
      "\n",
      "4x4/Conv             2364416   (?, 512, 4, 4)      (3, 3, 513, 512)\n",
      "\n",
      "4x4/Dense0           4194816   (?, 512)            (8192, 512)     \n",
      "\n",
      "Output               513       (?, 1)              (512, 1)        \n",
      "\n",
      "scores_out           -         (?, 1)              -               \n",
      "\n",
      "---                  ---       ---                 ---             \n",
      "\n",
      "Total                28864129                                      \n",
      "\n",
      "\n",
      "\n",
      "Building TensorFlow graph...\n",
      "\n",
      "Initializing logs...\n",
      "\n",
      "Training for 1 kimg...\n",
      "\n",
      "\n",
      "\n",
      "tick 0     kimg 0.1      lod 0.00  minibatch 32   time 34s          sec/tick 34.4    sec/kimg 268.94  maintenance 0.0    gpumem 6.1\n",
      "\n",
      "network-snapshot-000000        time 7m 54s       fid50k 291.7883\n",
      "\n",
      "tick 1     kimg 1.0      lod 0.00  minibatch 32   time 9m 55s       sec/tick 56.2    sec/kimg 62.75   maintenance 504.8  gpumem 6.1\n",
      "\n",
      "network-snapshot-000001        time 6m 14s       fid50k 292.1955\n",
      "\n",
      "dnnlib: Finished training.training_loop.training_loop() in 19m 09s.\n",
      "\n"
     ]
    },
    {
     "name": "stdout",
     "output_type": "stream",
     "text": [
      "\n"
     ]
    }
   ],
   "source": [
    "# Initial run to create the first checkpoint\n",
    "DeepFAMS.utils.executePopen(f'''#!/bin/bash\n",
    "module load anaconda\n",
    "module load compiler/gcc/6.1\n",
    "module load cuda/10.0\n",
    "conda activate stylegan2\n",
    "python3 {PROJ_DIR}/stylegan2/run_training.py \\\n",
    "    --num-gpus=2 \\\n",
    "    --data-dir=$WORK/ADA_Project/datasets \\\n",
    "    --result-dir={TRAIN_RUNS_DIR} \\\n",
    "    --config=config-f \\\n",
    "    --mirror-augment=true \\\n",
    "    --total-kimg=1 \\\n",
    "    --dataset={Path(DATA_CUSTOM_DIR).name}''', PROJ_DIR)"
   ]
  },
  {
   "cell_type": "code",
   "execution_count": 64,
   "metadata": {},
   "outputs": [
    {
     "name": "stdout",
     "output_type": "stream",
     "text": [
      "/work/chaselab/malyetama/ADA_Project/training_runs/StyleGAN2_AFHQ-DOG_training-runs/00000-stylegan2-AFHQ-DOG_custom-2gpu-config-f/network-snapshot-000001.pkl\n"
     ]
    }
   ],
   "source": [
    "for num in range(-1, -10, -1):\n",
    "    files = DeepFAMS.utils.last_snap(num, TRAIN_RUNS_DIR)\n",
    "    if files != []:\n",
    "        break\n",
    "\n",
    "latest_snap = sorted(files)[-1]\n",
    "print(latest_snap)"
   ]
  },
  {
   "cell_type": "code",
   "execution_count": null,
   "metadata": {},
   "outputs": [],
   "source": [
    "DeepFAMS.utils.executePopen(f'''#!/bin/bash\n",
    "module load anaconda\n",
    "module load compiler/gcc/6.1\n",
    "module load cuda/10.0\n",
    "conda activate stylegan2\n",
    "python3 {PROJ_DIR}/stylegan2/run_training.py \\\n",
    "    --num-gpus=2 \\\n",
    "    --data-dir={PROJ_DIR}/datasets \\\n",
    "    --result-dir={TRAIN_RUNS_DIR} \\\n",
    "    --config=config-f \\\n",
    "    --mirror-augment=true \\\n",
    "    --dataset={Path(DATA_CUSTOM_DIR).name}\n",
    "    --resume-pkl={latest_snap}''', PROJ_DIR)"
   ]
  },
  {
   "cell_type": "code",
   "execution_count": null,
   "metadata": {},
   "outputs": [],
   "source": []
  }
 ],
 "metadata": {
  "kernelspec": {
   "display_name": "Python (stylegan2)",
   "language": "python",
   "name": "stylegan2"
  },
  "language_info": {
   "codemirror_mode": {
    "name": "ipython",
    "version": 3
   },
   "file_extension": ".py",
   "mimetype": "text/x-python",
   "name": "python",
   "nbconvert_exporter": "python",
   "pygments_lexer": "ipython3",
   "version": "3.6.13"
  }
 },
 "nbformat": 4,
 "nbformat_minor": 2
}
